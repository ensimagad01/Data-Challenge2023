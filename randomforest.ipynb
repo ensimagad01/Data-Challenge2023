{
 "cells": [
  {
   "cell_type": "code",
   "execution_count": 1,
   "metadata": {},
   "outputs": [],
   "source": [
    "import pandas as pd\n",
    "import numpy as np\n",
    "\n",
    "from sklearn.model_selection import train_test_split\n",
    "from sklearn.preprocessing import MinMaxScaler\n",
    "from sklearn.ensemble import RandomForestClassifier, IsolationForest\n",
    "from sklearn.metrics import confusion_matrix, ConfusionMatrixDisplay, precision_score, recall_score\n",
    "\n",
    "from imblearn.under_sampling import RandomUnderSampler\n",
    "from imblearn.under_sampling import TomekLinks\n",
    "from imblearn.over_sampling import RandomOverSampler\n",
    "from imblearn.over_sampling import SMOTE"
   ]
  },
  {
   "cell_type": "markdown",
   "metadata": {},
   "source": [
    "## 0. Loading the data"
   ]
  },
  {
   "cell_type": "code",
   "execution_count": 2,
   "metadata": {},
   "outputs": [],
   "source": [
    "def load_data(filepath):\n",
    "    \"\"\"\n",
    "    Loading the data from the given file path and keeping only the desired features.\n",
    "    \"\"\"\n",
    "    data = pd.read_csv(filepath)\n",
    "\n",
    "    # why do we keep 'rawValue' instead of 'value'\n",
    "    features = ['value', 'state', 'day_of_week', 'hour_of_day', 'month_of_year', 'day_of_month']\n",
    "\n",
    "    data = data[features]\n",
    "    return data\n"
   ]
  },
  {
   "cell_type": "code",
   "execution_count": 3,
   "metadata": {},
   "outputs": [
    {
     "data": {
      "text/html": [
       "<div>\n",
       "<style scoped>\n",
       "    .dataframe tbody tr th:only-of-type {\n",
       "        vertical-align: middle;\n",
       "    }\n",
       "\n",
       "    .dataframe tbody tr th {\n",
       "        vertical-align: top;\n",
       "    }\n",
       "\n",
       "    .dataframe thead th {\n",
       "        text-align: right;\n",
       "    }\n",
       "</style>\n",
       "<table border=\"1\" class=\"dataframe\">\n",
       "  <thead>\n",
       "    <tr style=\"text-align: right;\">\n",
       "      <th></th>\n",
       "      <th>rawValue</th>\n",
       "      <th>state</th>\n",
       "      <th>day_of_week</th>\n",
       "      <th>hour_of_day</th>\n",
       "      <th>month_of_year</th>\n",
       "      <th>day_of_month</th>\n",
       "    </tr>\n",
       "  </thead>\n",
       "  <tbody>\n",
       "    <tr>\n",
       "      <th>0</th>\n",
       "      <td>2.8</td>\n",
       "      <td>1</td>\n",
       "      <td>5</td>\n",
       "      <td>1</td>\n",
       "      <td>1</td>\n",
       "      <td>1</td>\n",
       "    </tr>\n",
       "    <tr>\n",
       "      <th>1</th>\n",
       "      <td>3.2</td>\n",
       "      <td>1</td>\n",
       "      <td>5</td>\n",
       "      <td>2</td>\n",
       "      <td>1</td>\n",
       "      <td>1</td>\n",
       "    </tr>\n",
       "    <tr>\n",
       "      <th>2</th>\n",
       "      <td>2.4</td>\n",
       "      <td>1</td>\n",
       "      <td>5</td>\n",
       "      <td>3</td>\n",
       "      <td>1</td>\n",
       "      <td>1</td>\n",
       "    </tr>\n",
       "    <tr>\n",
       "      <th>3</th>\n",
       "      <td>2.4</td>\n",
       "      <td>1</td>\n",
       "      <td>5</td>\n",
       "      <td>4</td>\n",
       "      <td>1</td>\n",
       "      <td>1</td>\n",
       "    </tr>\n",
       "    <tr>\n",
       "      <th>4</th>\n",
       "      <td>2.8</td>\n",
       "      <td>1</td>\n",
       "      <td>5</td>\n",
       "      <td>5</td>\n",
       "      <td>1</td>\n",
       "      <td>1</td>\n",
       "    </tr>\n",
       "  </tbody>\n",
       "</table>\n",
       "</div>"
      ],
      "text/plain": [
       "   rawValue  state  day_of_week  hour_of_day  month_of_year  day_of_month\n",
       "0       2.8      1            5            1              1             1\n",
       "1       3.2      1            5            2              1             1\n",
       "2       2.4      1            5            3              1             1\n",
       "3       2.4      1            5            4              1             1\n",
       "4       2.8      1            5            5              1             1"
      ]
     },
     "execution_count": 3,
     "metadata": {},
     "output_type": "execute_result"
    }
   ],
   "source": [
    "filepath = 'data/15048_O3_2022_processed.csv'\n",
    "data = load_data(filepath)\n",
    "data.head()"
   ]
  },
  {
   "cell_type": "code",
   "execution_count": 4,
   "metadata": {},
   "outputs": [],
   "source": [
    "def separate_features_and_label(data):\n",
    "    \"\"\"\n",
    "    Separating the features from the label.\n",
    "    \"\"\"\n",
    "    X = data.loc[:, data.columns != 'state']\n",
    "    y = data['state']\n",
    "    return X, y"
   ]
  },
  {
   "cell_type": "code",
   "execution_count": 5,
   "metadata": {},
   "outputs": [],
   "source": [
    "X, y = separate_features_and_label(data)"
   ]
  },
  {
   "cell_type": "markdown",
   "metadata": {},
   "source": [
    "## 1. Sampling the data\n",
    "\n",
    "The data we load from our files is already cleaned. However, the distribution of valid and invalid instances is uneven and thus requires further pre-processing. Sampling should handle this imbalance effectively."
   ]
  },
  {
   "cell_type": "code",
   "execution_count": 6,
   "metadata": {},
   "outputs": [],
   "source": [
    "def get_distribution(y):\n",
    "    \"\"\"\n",
    "    Getting the distribution of valid and invalid data instances.\n",
    "    \"\"\"\n",
    "    return y.value_counts(normalize=True)\n",
    "    "
   ]
  },
  {
   "cell_type": "code",
   "execution_count": 7,
   "metadata": {},
   "outputs": [
    {
     "data": {
      "text/plain": [
       "1    0.956735\n",
       "0    0.043265\n",
       "Name: state, dtype: float64"
      ]
     },
     "execution_count": 7,
     "metadata": {},
     "output_type": "execute_result"
    }
   ],
   "source": [
    "get_distribution(y)"
   ]
  },
  {
   "cell_type": "code",
   "execution_count": 8,
   "metadata": {},
   "outputs": [],
   "source": [
    "def no_sampling(X, y):\n",
    "    return X, y"
   ]
  },
  {
   "cell_type": "markdown",
   "metadata": {},
   "source": [
    "### 1.1 Undersampling"
   ]
  },
  {
   "cell_type": "markdown",
   "metadata": {},
   "source": [
    "*Random Undersampling*\n",
    "\n",
    "Shrinks the dataset enormously most of the cases and may discard informative instances."
   ]
  },
  {
   "cell_type": "code",
   "execution_count": 9,
   "metadata": {},
   "outputs": [],
   "source": [
    "def undersample_random(X, y):\n",
    "    \"\"\"\n",
    "    Randomly remove instances from the majority class until a more balanced distribution is achieved. \n",
    "    \"\"\"\n",
    "    X_res, y_res = RandomUnderSampler().fit_resample(X, y)\n",
    "    return X_res, y_res"
   ]
  },
  {
   "cell_type": "code",
   "execution_count": 10,
   "metadata": {},
   "outputs": [
    {
     "data": {
      "text/plain": [
       "0.08653082826144483"
      ]
     },
     "execution_count": 10,
     "metadata": {},
     "output_type": "execute_result"
    }
   ],
   "source": [
    "_, y_rus = undersample_random(X, y)\n",
    "len(y_rus) / len(y)"
   ]
  },
  {
   "cell_type": "markdown",
   "metadata": {},
   "source": [
    "*Tomek Links*\n",
    "\n",
    "Makes the decision boundary more distinct but does not help much with the imbalance in our dataset."
   ]
  },
  {
   "cell_type": "code",
   "execution_count": 11,
   "metadata": {},
   "outputs": [],
   "source": [
    "def undersample_tomeklinks(X, y):\n",
    "    \"\"\"\n",
    "    Identify pairs of instances, one from the majority class and one from the minority class, that are close to each other but are of different classes. \n",
    "    Remove the majority class instance in each pair.    \n",
    "    \"\"\"\n",
    "    X_res, y_res = TomekLinks().fit_resample(X, y)\n",
    "    return X_res, y_res"
   ]
  },
  {
   "cell_type": "code",
   "execution_count": 12,
   "metadata": {},
   "outputs": [
    {
     "data": {
      "text/plain": [
       "1    0.956694\n",
       "0    0.043306\n",
       "Name: state, dtype: float64"
      ]
     },
     "execution_count": 12,
     "metadata": {},
     "output_type": "execute_result"
    }
   ],
   "source": [
    "_, y_tl = undersample_tomeklinks(X, y)\n",
    "get_distribution(y_tl)"
   ]
  },
  {
   "cell_type": "markdown",
   "metadata": {},
   "source": [
    "### 1.2 Oversampling"
   ]
  },
  {
   "cell_type": "markdown",
   "metadata": {},
   "source": [
    "*Random Oversampling*\n",
    "\n",
    "Doubles the size of the dataset in most of our cases but does not add new information."
   ]
  },
  {
   "cell_type": "code",
   "execution_count": 13,
   "metadata": {},
   "outputs": [],
   "source": [
    "def oversample_random(X, y):\n",
    "    \"\"\"\n",
    "    Randomly duplicate instances from the minority class to increase their representation in the dataset.\n",
    "    \"\"\"\n",
    "    X_res, y_res = RandomOverSampler().fit_resample(X, y)\n",
    "    return X_res, y_res"
   ]
  },
  {
   "cell_type": "code",
   "execution_count": 14,
   "metadata": {},
   "outputs": [
    {
     "data": {
      "text/plain": [
       "1.9134691717385552"
      ]
     },
     "execution_count": 14,
     "metadata": {},
     "output_type": "execute_result"
    }
   ],
   "source": [
    "_, y_ros = oversample_random(X, y)\n",
    "len(y_ros) / len(y)"
   ]
  },
  {
   "cell_type": "markdown",
   "metadata": {},
   "source": [
    "*Synthetic Minority Over-sampling Technique (SMOTE)*\n",
    "\n",
    "SMOTE helps in avoiding overfitting by introducing diversity through synthetic samples for the minority class. However, introducing synthetic samples may result in intentional misclassification, as synthetic samples might not accurately represent the characteristics of the original data."
   ]
  },
  {
   "cell_type": "code",
   "execution_count": 15,
   "metadata": {},
   "outputs": [],
   "source": [
    "def oversample_SMOTE(X, y):\n",
    "    \"\"\"\n",
    "    SMOTE generates synthetic samples for the minority class by interpolating between existing instances.\n",
    "    It selects a minority class instance and its k nearest neighbors, \n",
    "    and then creates synthetic instances along the line segments connecting the selected instance to its neighbors.\n",
    "    \"\"\"\n",
    "    X_res, y_res = SMOTE().fit_resample(X, y)\n",
    "    return X_res, y_res"
   ]
  },
  {
   "cell_type": "code",
   "execution_count": 16,
   "metadata": {},
   "outputs": [
    {
     "name": "stdout",
     "output_type": "stream",
     "text": [
      "1.9134691717385552\n"
     ]
    }
   ],
   "source": [
    "_, y_smote = oversample_SMOTE(X, y)\n",
    "print(len(y_smote)/ len(y))"
   ]
  },
  {
   "cell_type": "markdown",
   "metadata": {},
   "source": [
    "*Simulation of drifts* (similar to J. Dutroncy)"
   ]
  },
  {
   "cell_type": "code",
   "execution_count": 17,
   "metadata": {},
   "outputs": [],
   "source": [
    "def oversample_drift(X, y):\n",
    "    \"\"\"\n",
    "    The simulated drift feeds the training dataset with data undergoing a modification, and whose associated labels are determined to be “invalid”.\n",
    "    \"\"\"\n",
    "    valid_indices = y == 1\n",
    "    valid_instances = X[valid_indices]\n",
    "\n",
    "    # number of instances to modify to achieve balance\n",
    "    num_to_modify = sum(y == 1) - sum(y == 0)\n",
    "    \n",
    "    # select random instances to modify\n",
    "    indices_to_modify = np.random.choice(valid_instances.index, size=num_to_modify, replace=False)\n",
    "\n",
    "    # add random offset to selected instances\n",
    "    modified_instances = X.loc[indices_to_modify].copy()\n",
    "    range = X['value'].max() - X['value'].min()\n",
    "    min_offset = .1 * range\n",
    "    max_offset = .3 * range\n",
    "    modified_instances['value'] += np.random.uniform(min_offset, max_offset, size=num_to_modify) * np.random.choice([-1, 1])\n",
    "\n",
    "    # mark modified instances as invalid\n",
    "    invalids = pd.Series([0] * num_to_modify)\n",
    "\n",
    "    # concatenate modified instances with the original dataset\n",
    "    X_mod = pd.concat([X, modified_instances], ignore_index=True)\n",
    "    y_mod = pd.concat([y, invalids], ignore_index=True)\n",
    "\n",
    "    return X_mod, y_mod"
   ]
  },
  {
   "cell_type": "code",
   "execution_count": 18,
   "metadata": {},
   "outputs": [
    {
     "data": {
      "text/plain": [
       "(         rawValue  day_of_week  hour_of_day  month_of_year  day_of_month\n",
       " 0        2.800000            5            1              1             1\n",
       " 1        3.200000            5            2              1             1\n",
       " 2        2.400000            5            3              1             1\n",
       " 3        2.400000            5            4              1             1\n",
       " 4        2.800000            5            5              1             1\n",
       " ...           ...          ...          ...            ...           ...\n",
       " 14457 -108.243506            5           23              1             1\n",
       " 14458  -83.509949            5            0             10             8\n",
       " 14459    4.337874            6           14              5             1\n",
       " 14460   47.155610            4           12              3            25\n",
       " 14461  -30.303185            2            4              2             2\n",
       " \n",
       " [14462 rows x 5 columns],\n",
       " 0        1\n",
       " 1        1\n",
       " 2        1\n",
       " 3        1\n",
       " 4        1\n",
       "         ..\n",
       " 14457    0\n",
       " 14458    0\n",
       " 14459    0\n",
       " 14460    0\n",
       " 14461    0\n",
       " Length: 14462, dtype: int64)"
      ]
     },
     "execution_count": 18,
     "metadata": {},
     "output_type": "execute_result"
    }
   ],
   "source": [
    "oversample_drift(X, y)"
   ]
  },
  {
   "cell_type": "markdown",
   "metadata": {},
   "source": [
    "## 2. Classification"
   ]
  },
  {
   "cell_type": "markdown",
   "metadata": {},
   "source": [
    "### 2.0 Train-test split"
   ]
  },
  {
   "cell_type": "code",
   "execution_count": 19,
   "metadata": {},
   "outputs": [],
   "source": [
    "def split_data(X, y, test_size, stratifed=False):\n",
    "    \"\"\" \n",
    "    Splitting the data into train and test sets.\n",
    "    Stratifying to maintaining the proportions of the states in each set.\n",
    "    \"\"\"\n",
    "    if stratifed:\n",
    "        return train_test_split(X, y, test_size=test_size, stratify=y)\n",
    "    else:\n",
    "        return train_test_split(X, y, test_size=test_size)\n",
    "    "
   ]
  },
  {
   "cell_type": "code",
   "execution_count": 20,
   "metadata": {},
   "outputs": [
    {
     "name": "stdout",
     "output_type": "stream",
     "text": [
      "1    0.956711\n",
      "0    0.043289\n",
      "Name: state, dtype: float64\n",
      "1    0.95679\n",
      "0    0.04321\n",
      "Name: state, dtype: float64\n"
     ]
    }
   ],
   "source": [
    "_, _, y_train, y_test = split_data(X, y, .3, True)\n",
    "print(get_distribution(y_train))\n",
    "print(get_distribution(y_test))"
   ]
  },
  {
   "cell_type": "markdown",
   "metadata": {},
   "source": [
    "### 2.1 Random Forest\n",
    "\n",
    "Random Forest can handle imbalanced datasets well due to its bagging nature and the use of multiple decision trees."
   ]
  },
  {
   "cell_type": "code",
   "execution_count": 21,
   "metadata": {},
   "outputs": [],
   "source": [
    "def classify_random_forest(X_train, X_test, y_train):\n",
    "    \"\"\" \n",
    "    Classify the given data with RandomForest.\n",
    "    \"\"\"\n",
    "    clf = RandomForestClassifier().fit(X_train, y_train)\n",
    "    y_pred = clf.predict(X_test)\n",
    "    y_prob = clf.predict_proba(X_test)\n",
    "    return y_pred, y_prob"
   ]
  },
  {
   "cell_type": "markdown",
   "metadata": {},
   "source": [
    "### 2.2 Isolation Forest\n",
    "\n",
    "Isolation forest is a classification method that handels the minority class as an anomaly. It is based on the principle that anomalies are few in number and have characteristics that make them stand out from the regular instances."
   ]
  },
  {
   "cell_type": "code",
   "execution_count": 22,
   "metadata": {},
   "outputs": [],
   "source": [
    "def classify_isolation_forest(X_train, X_test, y_train):\n",
    "    \"\"\" \n",
    "    Classify the given data with IsolationForest.\n",
    "    IsolationForest works by recursively partitioning the data and isolating instances that require fewer partitions as potential anomalies.\n",
    "    \"\"\"\n",
    "    prop = y_train.eq(0).sum() / len(y_train)   # proportion of outliers\n",
    "    clf = IsolationForest(contamination=prop).fit(X_train, y_train)\n",
    "\n",
    "    # normalize anomaly score to obtain confidence measure\n",
    "    anomaly_scores = clf.decision_function(X_test)\n",
    "    y_prob = MinMaxScaler().fit_transform(anomaly_scores.reshape(-1, 1))\n",
    "\n",
    "    y_pred = clf.predict(X_test)\n",
    "    y_pred[y_pred == -1] = 0    # IsolationForest classifies outliers as -1\n",
    "\n",
    "    return y_pred, y_prob"
   ]
  },
  {
   "cell_type": "markdown",
   "metadata": {},
   "source": [
    "## 3. Evaluation"
   ]
  },
  {
   "cell_type": "code",
   "execution_count": 23,
   "metadata": {},
   "outputs": [],
   "source": [
    "def evaluate(y_test, y_pred):\n",
    "    precision = precision_score(y_test, y_pred, labels=[0], average=None)[0]     # true negatives out of all negative predictions\n",
    "    recall = recall_score(y_test, y_pred, labels=[0], average=None)[0]           # true negatives out of all truly negatives\n",
    "    print(f'Precision: {precision}\\nRecall: {recall}')\n",
    "    \n",
    "    cm = confusion_matrix(y_test, y_pred)\n",
    "    ConfusionMatrixDisplay(cm).plot()\n",
    "    #sns.heatmap(conf_matrix, annot=True, fmt='d', cmap='Blues', cbar=False)\n",
    "    #plt.title('Confusion Matrix')\n",
    "    #plt.show()"
   ]
  },
  {
   "cell_type": "code",
   "execution_count": 24,
   "metadata": {},
   "outputs": [],
   "source": [
    "def run_classification(trainfile, testfile=None, undersampler=no_sampling, oversampler=no_sampling, classifier=classify_random_forest):\n",
    "    if testfile is None:\n",
    "        data = load_data(trainfile)\n",
    "        X, y = separate_features_and_label(data)\n",
    "        X_train, X_test, y_train, y_test = split_data(X, y, .3, stratifed=True)\n",
    "    else:\n",
    "        train = load_data(trainfile)\n",
    "        X_train, y_train = separate_features_and_label(train)\n",
    "        test = load_data(testfile)\n",
    "        X_test, y_test = separate_features_and_label(test)\n",
    "\n",
    "    X_train, y_train = oversampler(X_train, y_train)\n",
    "    X_train, y_train = undersampler(X_train, y_train)\n",
    "\n",
    "    y_pred, y_prob = classifier(X_train, X_test, y_train)\n",
    "\n",
    "    evaluate(y_test, y_pred)"
   ]
  },
  {
   "cell_type": "code",
   "execution_count": 25,
   "metadata": {},
   "outputs": [],
   "source": [
    "train_filepath = 'data/15048_O3_2022_processed.csv'\n",
    "test_filepath = 'data/15038_O3_2022_processed.csv'"
   ]
  },
  {
   "cell_type": "markdown",
   "metadata": {},
   "source": [
    "*Original data set only*"
   ]
  },
  {
   "cell_type": "code",
   "execution_count": 26,
   "metadata": {},
   "outputs": [
    {
     "name": "stdout",
     "output_type": "stream",
     "text": [
      "Precision: 0.98989898989899\n",
      "Recall: 1.0\n"
     ]
    },
    {
     "data": {
      "image/png": "[encoded data removed]",
      "text/plain": [
       "<Figure size 432x288 with 2 Axes>"
      ]
     },
     "metadata": {
      "needs_background": "light"
     },
     "output_type": "display_data"
    }
   ],
   "source": [
    "run_classification(train_filepath, classifier=classify_random_forest)"
   ]
  },
  {
   "cell_type": "code",
   "execution_count": 27,
   "metadata": {},
   "outputs": [
    {
     "name": "stdout",
     "output_type": "stream",
     "text": [
      "Precision: 0.25688073394495414\n",
      "Recall: 0.2857142857142857\n"
     ]
    },
    {
     "data": {
      "image/png": "[encoded data removed]",
      "text/plain": [
       "<Figure size 432x288 with 2 Axes>"
      ]
     },
     "metadata": {
      "needs_background": "light"
     },
     "output_type": "display_data"
    }
   ],
   "source": [
    "run_classification(train_filepath, classifier=classify_isolation_forest)"
   ]
  },
  {
   "cell_type": "markdown",
   "metadata": {},
   "source": [
    "*Oversampled dataset using SMOTE*"
   ]
  },
  {
   "cell_type": "code",
   "execution_count": 28,
   "metadata": {},
   "outputs": [
    {
     "name": "stdout",
     "output_type": "stream",
     "text": [
      "Precision: 0.9797979797979798\n",
      "Recall: 0.9897959183673469\n"
     ]
    },
    {
     "data": {
      "image/png": "[encoded data removed]",
      "text/plain": [
       "<Figure size 432x288 with 2 Axes>"
      ]
     },
     "metadata": {
      "needs_background": "light"
     },
     "output_type": "display_data"
    }
   ],
   "source": [
    "run_classification(train_filepath, oversampler=oversample_SMOTE, classifier=classify_random_forest)"
   ]
  },
  {
   "cell_type": "markdown",
   "metadata": {},
   "source": [
    "*Oversamples dataset using drift*"
   ]
  },
  {
   "cell_type": "code",
   "execution_count": 29,
   "metadata": {},
   "outputs": [
    {
     "name": "stdout",
     "output_type": "stream",
     "text": [
      "Precision: 0.9514563106796117\n",
      "Recall: 1.0\n"
     ]
    },
    {
     "data": {
      "image/png": "[encoded data removed]",
      "text/plain": [
       "<Figure size 432x288 with 2 Axes>"
      ]
     },
     "metadata": {
      "needs_background": "light"
     },
     "output_type": "display_data"
    }
   ],
   "source": [
    "run_classification(train_filepath, oversampler=oversample_drift, classifier=classify_random_forest)"
   ]
  },
  {
   "cell_type": "markdown",
   "metadata": {},
   "source": [
    "*Different sites*"
   ]
  },
  {
   "cell_type": "code",
   "execution_count": 30,
   "metadata": {},
   "outputs": [
    {
     "name": "stdout",
     "output_type": "stream",
     "text": [
      "Precision: 0.1111111111111111\n",
      "Recall: 0.2\n"
     ]
    },
    {
     "data": {
      "image/png": "[encoded data removed]",
      "text/plain": [
       "<Figure size 432x288 with 2 Axes>"
      ]
     },
     "metadata": {
      "needs_background": "light"
     },
     "output_type": "display_data"
    }
   ],
   "source": [
    "run_classification(train_filepath, test_filepath, classifier=classify_random_forest)"
   ]
  },
  {
   "cell_type": "code",
   "execution_count": 31,
   "metadata": {},
   "outputs": [
    {
     "name": "stdout",
     "output_type": "stream",
     "text": [
      "Precision: 0.0\n",
      "Recall: 0.0\n"
     ]
    },
    {
     "data": {
      "image/png": "[encoded data removed]",
      "text/plain": [
       "<Figure size 432x288 with 2 Axes>"
      ]
     },
     "metadata": {
      "needs_background": "light"
     },
     "output_type": "display_data"
    }
   ],
   "source": [
    "run_classification(train_filepath, test_filepath, oversampler=oversample_random, classifier=classify_random_forest)"
   ]
  },
  {
   "cell_type": "code",
   "execution_count": 32,
   "metadata": {},
   "outputs": [
    {
     "name": "stdout",
     "output_type": "stream",
     "text": [
      "Precision: 0.013404825737265416\n",
      "Recall: 0.1111111111111111\n"
     ]
    },
    {
     "data": {
      "image/png": "[encoded data removed]",
      "text/plain": [
       "<Figure size 432x288 with 2 Axes>"
      ]
     },
     "metadata": {
      "needs_background": "light"
     },
     "output_type": "display_data"
    }
   ],
   "source": [
    "run_classification(train_filepath, test_filepath, oversampler=oversample_SMOTE, classifier=classify_random_forest)"
   ]
  },
  {
   "cell_type": "code",
   "execution_count": 33,
   "metadata": {},
   "outputs": [
    {
     "name": "stdout",
     "output_type": "stream",
     "text": [
      "Precision: 0.025191675794085433\n",
      "Recall: 0.5111111111111111\n"
     ]
    },
    {
     "data": {
      "image/png": "[encoded data removed]",
      "text/plain": [
       "<Figure size 432x288 with 2 Axes>"
      ]
     },
     "metadata": {
      "needs_background": "light"
     },
     "output_type": "display_data"
    }
   ],
   "source": [
    "run_classification(train_filepath, test_filepath, oversampler=oversample_drift, classifier=classify_random_forest)"
   ]
  },
  {
   "cell_type": "markdown",
   "metadata": {},
   "source": [
    "*Multiple sites*"
   ]
  },
  {
   "cell_type": "code",
   "execution_count": null,
   "metadata": {},
   "outputs": [],
   "source": [
    "from fetch import "
   ]
  }
 ],
 "metadata": {
  "kernelspec": {
   "display_name": "Python 3",
   "language": "python",
   "name": "python3"
  },
  "language_info": {
   "codemirror_mode": {
    "name": "ipython",
    "version": 3
   },
   "file_extension": ".py",
   "mimetype": "text/x-python",
   "name": "python",
   "nbconvert_exporter": "python",
   "pygments_lexer": "ipython3",
   "version": "3.10.0"
  }
 },
 "nbformat": 4,
 "nbformat_minor": 2
}
