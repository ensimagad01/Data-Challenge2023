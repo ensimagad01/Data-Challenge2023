{
 "cells": [
  {
   "cell_type": "code",
   "execution_count": 1,
   "metadata": {},
   "outputs": [],
   "source": [
    "%load_ext autoreload\n",
    "%autoreload 2\n",
    "\n",
    "import requests\n",
    "import csv\n",
    "import pandas as pd\n",
    "from io import StringIO\n",
    "import numpy as np\n",
    "import math\n",
    "from datetime import datetime\n",
    "\n",
    "import token_file\n",
    "from fetch import fetch_data, retrieve_nearby_station\n"
   ]
  },
  {
   "cell_type": "markdown",
   "metadata": {},
   "source": [
    "## 0 - Fetching the data"
   ]
  },
  {
   "cell_type": "markdown",
   "metadata": {},
   "source": [
    "### Examples for fetch_data()"
   ]
  },
  {
   "cell_type": "code",
   "execution_count": 2,
   "metadata": {},
   "outputs": [
    {
     "data": {
      "text/html": [
       "<div>\n",
       "<style scoped>\n",
       "    .dataframe tbody tr th:only-of-type {\n",
       "        vertical-align: middle;\n",
       "    }\n",
       "\n",
       "    .dataframe tbody tr th {\n",
       "        vertical-align: top;\n",
       "    }\n",
       "\n",
       "    .dataframe thead th {\n",
       "        text-align: right;\n",
       "    }\n",
       "</style>\n",
       "<table border=\"1\" class=\"dataframe\">\n",
       "  <thead>\n",
       "    <tr style=\"text-align: right;\">\n",
       "      <th></th>\n",
       "      <th>mesure_id</th>\n",
       "      <th>date</th>\n",
       "      <th>valeur</th>\n",
       "      <th>validation</th>\n",
       "      <th>site_id</th>\n",
       "      <th>type_appareil_id</th>\n",
       "      <th>type_appareil_label</th>\n",
       "      <th>code_polluant</th>\n",
       "      <th>label_polluant</th>\n",
       "      <th>id_poll_ue</th>\n",
       "      <th>label_court_polluant</th>\n",
       "      <th>label_unite</th>\n",
       "      <th>label_court_unite</th>\n",
       "      <th>unite</th>\n",
       "      <th>site_label</th>\n",
       "    </tr>\n",
       "  </thead>\n",
       "  <tbody>\n",
       "    <tr>\n",
       "      <th>0</th>\n",
       "      <td>FR20062_24_11</td>\n",
       "      <td>01/01/2023 00:00:00</td>\n",
       "      <td>15.6</td>\n",
       "      <td>1</td>\n",
       "      <td>FR20062</td>\n",
       "      <td>11</td>\n",
       "      <td>Analyseur Air</td>\n",
       "      <td>24</td>\n",
       "      <td>particules PM10</td>\n",
       "      <td>5</td>\n",
       "      <td>PM10</td>\n",
       "      <td>Microgramme par m3</td>\n",
       "      <td>microg/m3</td>\n",
       "      <td>µg/m³</td>\n",
       "      <td>Lyon Centre</td>\n",
       "    </tr>\n",
       "    <tr>\n",
       "      <th>1</th>\n",
       "      <td>FR20062_24_11</td>\n",
       "      <td>01/01/2023 01:00:00</td>\n",
       "      <td>16.5</td>\n",
       "      <td>1</td>\n",
       "      <td>FR20062</td>\n",
       "      <td>11</td>\n",
       "      <td>Analyseur Air</td>\n",
       "      <td>24</td>\n",
       "      <td>particules PM10</td>\n",
       "      <td>5</td>\n",
       "      <td>PM10</td>\n",
       "      <td>Microgramme par m3</td>\n",
       "      <td>microg/m3</td>\n",
       "      <td>µg/m³</td>\n",
       "      <td>Lyon Centre</td>\n",
       "    </tr>\n",
       "    <tr>\n",
       "      <th>2</th>\n",
       "      <td>FR20062_24_11</td>\n",
       "      <td>01/01/2023 02:00:00</td>\n",
       "      <td>17.2</td>\n",
       "      <td>1</td>\n",
       "      <td>FR20062</td>\n",
       "      <td>11</td>\n",
       "      <td>Analyseur Air</td>\n",
       "      <td>24</td>\n",
       "      <td>particules PM10</td>\n",
       "      <td>5</td>\n",
       "      <td>PM10</td>\n",
       "      <td>Microgramme par m3</td>\n",
       "      <td>microg/m3</td>\n",
       "      <td>µg/m³</td>\n",
       "      <td>Lyon Centre</td>\n",
       "    </tr>\n",
       "    <tr>\n",
       "      <th>3</th>\n",
       "      <td>FR20062_24_11</td>\n",
       "      <td>01/01/2023 03:00:00</td>\n",
       "      <td>23.1</td>\n",
       "      <td>1</td>\n",
       "      <td>FR20062</td>\n",
       "      <td>11</td>\n",
       "      <td>Analyseur Air</td>\n",
       "      <td>24</td>\n",
       "      <td>particules PM10</td>\n",
       "      <td>5</td>\n",
       "      <td>PM10</td>\n",
       "      <td>Microgramme par m3</td>\n",
       "      <td>microg/m3</td>\n",
       "      <td>µg/m³</td>\n",
       "      <td>Lyon Centre</td>\n",
       "    </tr>\n",
       "    <tr>\n",
       "      <th>4</th>\n",
       "      <td>FR20062_24_11</td>\n",
       "      <td>01/01/2023 04:00:00</td>\n",
       "      <td>21.5</td>\n",
       "      <td>1</td>\n",
       "      <td>FR20062</td>\n",
       "      <td>11</td>\n",
       "      <td>Analyseur Air</td>\n",
       "      <td>24</td>\n",
       "      <td>particules PM10</td>\n",
       "      <td>5</td>\n",
       "      <td>PM10</td>\n",
       "      <td>Microgramme par m3</td>\n",
       "      <td>microg/m3</td>\n",
       "      <td>µg/m³</td>\n",
       "      <td>Lyon Centre</td>\n",
       "    </tr>\n",
       "  </tbody>\n",
       "</table>\n",
       "</div>"
      ],
      "text/plain": [
       "       mesure_id                 date  valeur  validation  site_id  \\\n",
       "0  FR20062_24_11  01/01/2023 00:00:00    15.6           1  FR20062   \n",
       "1  FR20062_24_11  01/01/2023 01:00:00    16.5           1  FR20062   \n",
       "2  FR20062_24_11  01/01/2023 02:00:00    17.2           1  FR20062   \n",
       "3  FR20062_24_11  01/01/2023 03:00:00    23.1           1  FR20062   \n",
       "4  FR20062_24_11  01/01/2023 04:00:00    21.5           1  FR20062   \n",
       "\n",
       "   type_appareil_id type_appareil_label  code_polluant   label_polluant  \\\n",
       "0                11       Analyseur Air             24  particules PM10   \n",
       "1                11       Analyseur Air             24  particules PM10   \n",
       "2                11       Analyseur Air             24  particules PM10   \n",
       "3                11       Analyseur Air             24  particules PM10   \n",
       "4                11       Analyseur Air             24  particules PM10   \n",
       "\n",
       "   id_poll_ue label_court_polluant         label_unite label_court_unite  \\\n",
       "0           5                 PM10  Microgramme par m3         microg/m3   \n",
       "1           5                 PM10  Microgramme par m3         microg/m3   \n",
       "2           5                 PM10  Microgramme par m3         microg/m3   \n",
       "3           5                 PM10  Microgramme par m3         microg/m3   \n",
       "4           5                 PM10  Microgramme par m3         microg/m3   \n",
       "\n",
       "   unite   site_label  \n",
       "0  µg/m³  Lyon Centre  \n",
       "1  µg/m³  Lyon Centre  \n",
       "2  µg/m³  Lyon Centre  \n",
       "3  µg/m³  Lyon Centre  \n",
       "4  µg/m³  Lyon Centre  "
      ]
     },
     "execution_count": 2,
     "metadata": {},
     "output_type": "execute_result"
    }
   ],
   "source": [
    "hourly_data = fetch_data('4', ['date_debut=2023-01-01', 'date_fin=2023-01-02', 'sites=FR20062', 'label_court_polluant=PM10', 'format=csv'])\n",
    "daily_data = fetch_data('5', ['date_debut=2023-01-01', 'date_fin=2023-01-01', 'sites=FR20062', 'label_court_polluant=O3', 'format=csv'])\n",
    "hourly_data.head()"
   ]
  },
  {
   "cell_type": "markdown",
   "metadata": {},
   "source": [
    "## 1 - Fetching nearby measure stations"
   ]
  },
  {
   "cell_type": "markdown",
   "metadata": {},
   "source": [
    "### Example for retrieve_measures()"
   ]
  },
  {
   "cell_type": "code",
   "execution_count": 4,
   "metadata": {},
   "outputs": [
    {
     "name": "stdout",
     "output_type": "stream",
     "text": [
      "Station in a radius of 20 km from FR15038 : {'FR15045', 'FR15007', 'FR15046', 'FR47141', 'FR15038', 'FR15044', 'FR15017', 'FR15048', 'FR15051', 'FR15008', 'FR15043', 'FR15012', 'FR15014', 'FR15049', 'FR15013'}\n"
     ]
    }
   ],
   "source": [
    "reference_station_id = \"FR15038\"\n",
    "radius = 20  # Radius in kilometers\n",
    "\n",
    "params_list = ['format=geojson', 'label_court_polluant=O3']\n",
    "\n",
    "# Filter the measures based on the radius and pollutant\n",
    "station_ids = retrieve_nearby_station(\"FR15038\", radius, param_lists=params_list)\n",
    "print(\"Station in a radius of\", radius, \"km from\", reference_station_id, \":\", station_ids)"
   ]
  },
  {
   "cell_type": "markdown",
   "metadata": {},
   "source": [
    "Station present in the FTP server : (Only I in it) FR47141, FR15045, FR15048, FR15013"
   ]
  },
  {
   "cell_type": "code",
   "execution_count": null,
   "metadata": {},
   "outputs": [],
   "source": []
  }
 ],
 "metadata": {
  "kernelspec": {
   "display_name": "Python 3.10.9 64-bit",
   "language": "python",
   "name": "python3"
  },
  "language_info": {
   "codemirror_mode": {
    "name": "ipython",
    "version": 3
   },
   "file_extension": ".py",
   "mimetype": "text/x-python",
   "name": "python",
   "nbconvert_exporter": "python",
   "pygments_lexer": "ipython3",
   "version": "3.10.9"
  },
  "orig_nbformat": 4,
  "vscode": {
   "interpreter": {
    "hash": "b0fa6594d8f4cbf19f97940f81e996739fb7646882a419484c72d19e05852a7e"
   }
  }
 },
 "nbformat": 4,
 "nbformat_minor": 2
}
